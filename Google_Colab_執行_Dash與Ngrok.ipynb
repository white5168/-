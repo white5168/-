{
  "cells": [
    {
      "cell_type": "markdown",
      "metadata": {
        "id": "view-in-github",
        "colab_type": "text"
      },
      "source": [
        "<a href=\"https://colab.research.google.com/github/white5168/Google-Colab/blob/main/Google_Colab_%E5%9F%B7%E8%A1%8C_Dash%E8%88%87Ngrok.ipynb\" target=\"_parent\"><img src=\"https://colab.research.google.com/assets/colab-badge.svg\" alt=\"Open In Colab\"/></a>"
      ]
    },
    {
      "cell_type": "markdown",
      "metadata": {
        "id": "B0OdwH_WYitR"
      },
      "source": [
        "# Colab 安裝 ngrok"
      ]
    },
    {
      "cell_type": "code",
      "execution_count": null,
      "metadata": {
        "colab": {
          "base_uri": "https://localhost:8080/"
        },
        "id": "qFBHKcKxNb3M",
        "outputId": "b63d9e0c-f528-47d6-ea2f-50ffb86a3cb5"
      },
      "outputs": [
        {
          "name": "stdout",
          "output_type": "stream",
          "text": [
            "--2023-08-30 02:19:41--  https://bin.equinox.io/c/4VmDzA7iaHb/ngrok-stable-linux-amd64.zip\n",
            "Resolving bin.equinox.io (bin.equinox.io)... 52.202.168.65, 54.237.133.81, 54.161.241.46, ...\n",
            "Connecting to bin.equinox.io (bin.equinox.io)|52.202.168.65|:443... connected.\n",
            "HTTP request sent, awaiting response... 200 OK\n",
            "Length: 13921656 (13M) [application/octet-stream]\n",
            "Saving to: ‘ngrok-stable-linux-amd64.zip’\n",
            "\n",
            "ngrok-stable-linux- 100%[===================>]  13.28M  19.7MB/s    in 0.7s    \n",
            "\n",
            "2023-08-30 02:19:42 (19.7 MB/s) - ‘ngrok-stable-linux-amd64.zip’ saved [13921656/13921656]\n",
            "\n",
            "Archive:  ngrok-stable-linux-amd64.zip\n",
            "  inflating: ngrok                   \n"
          ]
        }
      ],
      "source": [
        "!wget https://bin.equinox.io/c/4VmDzA7iaHb/ngrok-stable-linux-amd64.zip\n",
        "!unzip ngrok-stable-linux-amd64.zip"
      ]
    },
    {
      "cell_type": "markdown",
      "metadata": {
        "id": "4z01Ju6UPA1M"
      },
      "source": [
        "# 安裝套件\n"
      ]
    },
    {
      "cell_type": "code",
      "execution_count": null,
      "metadata": {
        "colab": {
          "base_uri": "https://localhost:8080/"
        },
        "id": "vsUdmce2PBC8",
        "outputId": "9d602c94-6eab-4042-80ba-26179387f010"
      },
      "outputs": [
        {
          "name": "stdout",
          "output_type": "stream",
          "text": [
            "Found existing installation: dash 2.13.0\n",
            "Uninstalling dash-2.13.0:\n",
            "  Successfully uninstalled dash-2.13.0\n",
            "Found existing installation: dash-html-components 2.0.0\n",
            "Uninstalling dash-html-components-2.0.0:\n",
            "  Successfully uninstalled dash-html-components-2.0.0\n",
            "Found existing installation: dash-core-components 2.0.0\n",
            "Uninstalling dash-core-components-2.0.0:\n",
            "  Successfully uninstalled dash-core-components-2.0.0\n",
            "Found existing installation: dash-table 5.0.0\n",
            "Uninstalling dash-table-5.0.0:\n",
            "  Successfully uninstalled dash-table-5.0.0\n",
            "Collecting dash\n",
            "  Using cached dash-2.13.0-py3-none-any.whl (10.4 MB)\n",
            "Requirement already satisfied: Flask<2.3.0,>=1.0.4 in /usr/local/lib/python3.10/dist-packages (from dash) (2.2.5)\n",
            "Requirement already satisfied: Werkzeug<2.3.0 in /usr/local/lib/python3.10/dist-packages (from dash) (2.2.3)\n",
            "Requirement already satisfied: plotly>=5.0.0 in /usr/local/lib/python3.10/dist-packages (from dash) (5.15.0)\n",
            "Collecting dash-html-components==2.0.0 (from dash)\n",
            "  Using cached dash_html_components-2.0.0-py3-none-any.whl (4.1 kB)\n",
            "Collecting dash-core-components==2.0.0 (from dash)\n",
            "  Using cached dash_core_components-2.0.0-py3-none-any.whl (3.8 kB)\n",
            "Collecting dash-table==5.0.0 (from dash)\n",
            "  Using cached dash_table-5.0.0-py3-none-any.whl (3.9 kB)\n",
            "Requirement already satisfied: typing-extensions>=4.1.1 in /usr/local/lib/python3.10/dist-packages (from dash) (4.7.1)\n",
            "Requirement already satisfied: requests in /usr/local/lib/python3.10/dist-packages (from dash) (2.31.0)\n",
            "Requirement already satisfied: retrying in /usr/local/lib/python3.10/dist-packages (from dash) (1.3.4)\n",
            "Requirement already satisfied: ansi2html in /usr/local/lib/python3.10/dist-packages (from dash) (1.8.0)\n",
            "Requirement already satisfied: nest-asyncio in /usr/local/lib/python3.10/dist-packages (from dash) (1.5.7)\n",
            "Requirement already satisfied: setuptools in /usr/local/lib/python3.10/dist-packages (from dash) (67.7.2)\n",
            "Requirement already satisfied: Jinja2>=3.0 in /usr/local/lib/python3.10/dist-packages (from Flask<2.3.0,>=1.0.4->dash) (3.1.2)\n",
            "Requirement already satisfied: itsdangerous>=2.0 in /usr/local/lib/python3.10/dist-packages (from Flask<2.3.0,>=1.0.4->dash) (2.1.2)\n",
            "Requirement already satisfied: click>=8.0 in /usr/local/lib/python3.10/dist-packages (from Flask<2.3.0,>=1.0.4->dash) (8.1.7)\n",
            "Requirement already satisfied: tenacity>=6.2.0 in /usr/local/lib/python3.10/dist-packages (from plotly>=5.0.0->dash) (8.2.3)\n",
            "Requirement already satisfied: packaging in /usr/local/lib/python3.10/dist-packages (from plotly>=5.0.0->dash) (23.1)\n",
            "Requirement already satisfied: MarkupSafe>=2.1.1 in /usr/local/lib/python3.10/dist-packages (from Werkzeug<2.3.0->dash) (2.1.3)\n",
            "Requirement already satisfied: charset-normalizer<4,>=2 in /usr/local/lib/python3.10/dist-packages (from requests->dash) (3.2.0)\n",
            "Requirement already satisfied: idna<4,>=2.5 in /usr/local/lib/python3.10/dist-packages (from requests->dash) (3.4)\n",
            "Requirement already satisfied: urllib3<3,>=1.21.1 in /usr/local/lib/python3.10/dist-packages (from requests->dash) (2.0.4)\n",
            "Requirement already satisfied: certifi>=2017.4.17 in /usr/local/lib/python3.10/dist-packages (from requests->dash) (2023.7.22)\n",
            "Requirement already satisfied: six>=1.7.0 in /usr/local/lib/python3.10/dist-packages (from retrying->dash) (1.16.0)\n",
            "Installing collected packages: dash-table, dash-html-components, dash-core-components, dash\n",
            "Successfully installed dash-2.13.0 dash-core-components-2.0.0 dash-html-components-2.0.0 dash-table-5.0.0\n",
            "Collecting pyngrok\n",
            "  Downloading pyngrok-6.0.0.tar.gz (681 kB)\n",
            "\u001b[2K     \u001b[90m━━━━━━━━━━━━━━━━━━━━━━━━━━━━━━━━━━━━━━━\u001b[0m \u001b[32m681.2/681.2 kB\u001b[0m \u001b[31m7.9 MB/s\u001b[0m eta \u001b[36m0:00:00\u001b[0m\n",
            "\u001b[?25h  Preparing metadata (setup.py) ... \u001b[?25l\u001b[?25hdone\n",
            "Requirement already satisfied: PyYAML in /usr/local/lib/python3.10/dist-packages (from pyngrok) (6.0.1)\n",
            "Building wheels for collected packages: pyngrok\n",
            "  Building wheel for pyngrok (setup.py) ... \u001b[?25l\u001b[?25hdone\n",
            "  Created wheel for pyngrok: filename=pyngrok-6.0.0-py3-none-any.whl size=19867 sha256=1068afce4cf7deecef3ec1bf6380ca7725813c1b79f0c7d8f3e50111a12ef090\n",
            "  Stored in directory: /root/.cache/pip/wheels/5c/42/78/0c3d438d7f5730451a25f7ac6cbf4391759d22a67576ed7c2c\n",
            "Successfully built pyngrok\n",
            "Installing collected packages: pyngrok\n",
            "Successfully installed pyngrok-6.0.0\n"
          ]
        }
      ],
      "source": [
        "#!pip uninstall dash -y  # The core dash backend\n",
        "#!pip uninstall dash-html-components -y  # HTML components\n",
        "#!pip uninstall dash-core-components -y  # Supercharged components\n",
        "#!pip uninstall dash-table -y  # Interactive DataTable component (new!)\n",
        "!pip install dash\n",
        "#!pip install jupyter-dash\n",
        "!pip install pyngrok"
      ]
    },
    {
      "cell_type": "markdown",
      "metadata": {
        "id": "AD9v8cO5PIkB"
      },
      "source": [
        "# 寫入檔案"
      ]
    },
    {
      "cell_type": "code",
      "execution_count": null,
      "metadata": {
        "colab": {
          "base_uri": "https://localhost:8080/"
        },
        "id": "8Didx7tqPJDl",
        "outputId": "d150bc9c-a591-4a1d-bd62-12811ed35ee3"
      },
      "outputs": [
        {
          "name": "stdout",
          "output_type": "stream",
          "text": [
            "Writing my_app.py\n"
          ]
        }
      ],
      "source": [
        "%%writefile my_app.py\n",
        "import dash\n",
        "from dash import html, dcc\n",
        "\n",
        "external_stylesheets = ['https://codepen.io/chriddyp/pen/bWLwgP.css']\n",
        "\n",
        "app = dash.Dash(__name__, external_stylesheets=external_stylesheets)\n",
        "\n",
        "app.layout = html.Div(children=[\n",
        "    html.H1(children='Hello Dash'),\n",
        "\n",
        "    html.Div(children='''\n",
        "        Dash: A web application framework for Python.\n",
        "    '''),\n",
        "\n",
        "    dcc.Graph(\n",
        "        id='example-graph',\n",
        "        figure={\n",
        "            'data': [\n",
        "                {'x': [1, 2, 3], 'y': [4, 1, 2], 'type': 'bar', 'name': 'SF'},\n",
        "                {'x': [1, 2, 3], 'y': [2, 4, 5], 'type': 'bar', 'name': u'Montréal'},\n",
        "            ],\n",
        "            'layout': {\n",
        "                'title': 'Dash Data Visualization'\n",
        "            }\n",
        "        }\n",
        "    )\n",
        "])\n",
        "\n",
        "if __name__ == '__main__':\n",
        "    app.run_server()"
      ]
    },
    {
      "cell_type": "markdown",
      "source": [],
      "metadata": {
        "id": "dIRlLy0NoE8k"
      }
    },
    {
      "cell_type": "markdown",
      "metadata": {
        "id": "uJOXoJ45Ni1j"
      },
      "source": [
        "# 執行Ngrok"
      ]
    },
    {
      "cell_type": "code",
      "execution_count": null,
      "metadata": {
        "colab": {
          "base_uri": "https://localhost:8080/"
        },
        "id": "fY-kUTdmWyez",
        "outputId": "3ac9dd22-dedf-45ba-fe24-4efe15efcfcc"
      },
      "outputs": [
        {
          "name": "stdout",
          "output_type": "stream",
          "text": [
            "Authtoken saved to configuration file: /root/.ngrok2/ngrok.yml\n"
          ]
        }
      ],
      "source": [
        "!ngrok config add-authtoken <Token>"
      ]
    },
    {
      "cell_type": "code",
      "execution_count": null,
      "metadata": {
        "id": "NOuiqZK7Nzp6"
      },
      "outputs": [],
      "source": [
        "get_ipython().system_raw('./ngrok http 8050 &')"
      ]
    },
    {
      "cell_type": "markdown",
      "metadata": {
        "id": "C-IIf-IaOzXl"
      },
      "source": [
        "# 取得共用URL"
      ]
    },
    {
      "cell_type": "code",
      "execution_count": null,
      "metadata": {
        "colab": {
          "base_uri": "https://localhost:8080/"
        },
        "id": "La7zMrSgOzgK",
        "outputId": "d21ee852-4e84-4090-8a48-32363967db4e"
      },
      "outputs": [
        {
          "name": "stdout",
          "output_type": "stream",
          "text": [
            "https://4d26-34-125-129-244.ngrok-free.app\n"
          ]
        }
      ],
      "source": [
        "! curl -s http://localhost:4040/api/tunnels | python3 -c \"import sys, json; print(json.load(sys.stdin)['tunnels'][0]['public_url'])\""
      ]
    },
    {
      "cell_type": "markdown",
      "metadata": {
        "id": "q0Db-lqDPNes"
      },
      "source": [
        "# 執行"
      ]
    },
    {
      "cell_type": "code",
      "execution_count": null,
      "metadata": {
        "colab": {
          "background_save": true,
          "base_uri": "https://localhost:8080/"
        },
        "id": "y5taovT4PNwW",
        "outputId": "eb19a09c-e68d-46cf-f6eb-0a7e2bd423a7"
      },
      "outputs": [
        {
          "name": "stdout",
          "output_type": "stream",
          "text": [
            "Dash is running on http://127.0.0.1:8050/\n",
            "\n",
            " * Serving Flask app 'my_app'\n",
            " * Debug mode: off\n",
            "\u001b[31m\u001b[1mWARNING: This is a development server. Do not use it in a production deployment. Use a production WSGI server instead.\u001b[0m\n",
            " * Running on http://127.0.0.1:8050\n",
            "\u001b[33mPress CTRL+C to quit\u001b[0m\n",
            "127.0.0.1 - - [30/Aug/2023 03:01:14] \"GET / HTTP/1.1\" 200 -\n",
            "127.0.0.1 - - [30/Aug/2023 03:01:15] \"GET /_dash-component-suites/dash/deps/polyfill@7.v2_13_0m1693363270.12.1.min.js HTTP/1.1\" 200 -\n",
            "127.0.0.1 - - [30/Aug/2023 03:01:15] \"GET /_dash-component-suites/dash/dcc/dash_core_components.v2_12_0m1693363270.js HTTP/1.1\" 200 -\n",
            "127.0.0.1 - - [30/Aug/2023 03:01:15] \"GET /_dash-component-suites/dash/html/dash_html_components.v2_0_14m1693363270.min.js HTTP/1.1\" 200 -\n",
            "127.0.0.1 - - [30/Aug/2023 03:01:15] \"GET /_dash-component-suites/dash/deps/react@16.v2_13_0m1693363270.14.0.min.js HTTP/1.1\" 200 -\n",
            "127.0.0.1 - - [30/Aug/2023 03:01:15] \"GET /_dash-component-suites/dash/deps/react-dom@16.v2_13_0m1693363270.14.0.min.js HTTP/1.1\" 200 -\n",
            "127.0.0.1 - - [30/Aug/2023 03:01:15] \"GET /_dash-component-suites/dash/dcc/dash_core_components-shared.v2_12_0m1693363270.js HTTP/1.1\" 200 -\n",
            "127.0.0.1 - - [30/Aug/2023 03:01:15] \"GET /_dash-component-suites/dash/dash-renderer/build/dash_renderer.v2_13_0m1693363270.min.js HTTP/1.1\" 200 -\n",
            "127.0.0.1 - - [30/Aug/2023 03:01:15] \"GET /_dash-component-suites/dash/deps/prop-types@15.v2_13_0m1693363270.8.1.min.js HTTP/1.1\" 200 -\n",
            "127.0.0.1 - - [30/Aug/2023 03:01:15] \"GET /_dash-component-suites/dash/dash_table/bundle.v5_2_7m1693363270.js HTTP/1.1\" 200 -\n",
            "127.0.0.1 - - [30/Aug/2023 03:01:16] \"GET /_dash-dependencies HTTP/1.1\" 200 -\n",
            "127.0.0.1 - - [30/Aug/2023 03:01:16] \"GET /_dash-layout HTTP/1.1\" 200 -\n",
            "127.0.0.1 - - [30/Aug/2023 03:01:17] \"GET /_favicon.ico?v=2.13.0 HTTP/1.1\" 200 -\n",
            "127.0.0.1 - - [30/Aug/2023 03:01:17] \"GET /_dash-component-suites/dash/dcc/async-graph.js HTTP/1.1\" 200 -\n",
            "127.0.0.1 - - [30/Aug/2023 03:01:17] \"GET /_dash-component-suites/plotly/package_data/plotly.min.js HTTP/1.1\" 200 -\n"
          ]
        }
      ],
      "source": [
        "!python my_app.py"
      ]
    }
  ],
  "metadata": {
    "colab": {
      "provenance": [],
      "authorship_tag": "ABX9TyNIP2jB2QCLuxYB+9vjBDa6",
      "include_colab_link": true
    },
    "kernelspec": {
      "display_name": "Python 3",
      "name": "python3"
    },
    "language_info": {
      "name": "python"
    }
  },
  "nbformat": 4,
  "nbformat_minor": 0
}